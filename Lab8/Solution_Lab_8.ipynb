{
 "cells": [
  {
   "cell_type": "markdown",
   "id": "d0fe2178",
   "metadata": {},
   "source": [
    "EE21S061 Arihant Jain Lab 8 for EE5175 course:"
   ]
  },
  {
   "cell_type": "code",
   "execution_count": 1,
   "id": "790c1674",
   "metadata": {},
   "outputs": [],
   "source": [
    "from PIL import Image\n",
    "from numpy import asarray\n",
    "import cv2\n",
    "import math\n",
    "import numpy as np\n",
    "from sympy import *\n",
    "import matplotlib.pyplot as plt\n",
    "from matplotlib import cm\n",
    "from matplotlib.ticker import LinearLocator\n",
    "import numpy as np\n",
    "\n",
    "# load the image\n",
    "import scipy.io\n",
    "mat = scipy.io.loadmat('imageFile.mat')\n",
    "# setting up parameters\n",
    "rho=0.91\n"
   ]
  },
  {
   "cell_type": "markdown",
   "id": "a360448b",
   "metadata": {},
   "source": [
    "# Defining function to compute Transform\n",
    "## 1.1 DCT Transform\n",
    "\n",
    "The function given for computing DCT matrix is as follow:\n",
    "\n",
    "$$ C(k,n) = \\frac{1}{\\sqrt{N}} , \\; for \\;   K = 0 $$ \n",
    "\n",
    "$$ C(k,n) = \\sqrt {\\frac{2}{N}} \\cos{\\frac{\\pi(2n+1)k}{2N}}, \\; where \\; 1 \\leq k \\leq N-1 \\;and \\; 0 \\leq n \\leq N-1 $$ \n",
    "\n",
    "\n",
    "Based on the above equation we can compute the DCT matrix as defined in the function below. We can see that since this Transform is independent of the data its going to be applied on this is a DATA independent Transform"
   ]
  },
  {
   "cell_type": "code",
   "execution_count": 2,
   "id": "9c436e95",
   "metadata": {},
   "outputs": [],
   "source": [
    "def DCT_custom(N):\n",
    "    k,n=np.meshgrid(range(N),range(N))\n",
    "    c=np.zeros((N,N))\n",
    "    # Computing DCT values based on formula given above\n",
    "    c=np.sqrt(2/N)*(np.cos(np.pi*(2*k+1)*n/(2*N)))\n",
    "    # setting values for K=0 as mentioned above\n",
    "    c[n==0]=np.sqrt(1/N)\n",
    "    return c"
   ]
  },
  {
   "cell_type": "code",
   "execution_count": 3,
   "id": "78565afc",
   "metadata": {},
   "outputs": [
    {
     "data": {
      "text/plain": [
       "array([[ 0.35355339,  0.35355339,  0.35355339,  0.35355339,  0.35355339,\n",
       "         0.35355339,  0.35355339,  0.35355339],\n",
       "       [ 0.49039264,  0.41573481,  0.27778512,  0.09754516, -0.09754516,\n",
       "        -0.27778512, -0.41573481, -0.49039264],\n",
       "       [ 0.46193977,  0.19134172, -0.19134172, -0.46193977, -0.46193977,\n",
       "        -0.19134172,  0.19134172,  0.46193977],\n",
       "       [ 0.41573481, -0.09754516, -0.49039264, -0.27778512,  0.27778512,\n",
       "         0.49039264,  0.09754516, -0.41573481],\n",
       "       [ 0.35355339, -0.35355339, -0.35355339,  0.35355339,  0.35355339,\n",
       "        -0.35355339, -0.35355339,  0.35355339],\n",
       "       [ 0.27778512, -0.49039264,  0.09754516,  0.41573481, -0.41573481,\n",
       "        -0.09754516,  0.49039264, -0.27778512],\n",
       "       [ 0.19134172, -0.46193977,  0.46193977, -0.19134172, -0.19134172,\n",
       "         0.46193977, -0.46193977,  0.19134172],\n",
       "       [ 0.09754516, -0.27778512,  0.41573481, -0.49039264,  0.49039264,\n",
       "        -0.41573481,  0.27778512, -0.09754516]])"
      ]
     },
     "execution_count": 3,
     "metadata": {},
     "output_type": "execute_result"
    }
   ],
   "source": [
    "DCT_custom(8)"
   ]
  },
  {
   "cell_type": "markdown",
   "id": "ab22c5f7",
   "metadata": {},
   "source": [
    "## 1.2 Markov-1 Process\n",
    "\n",
    "The function given for computing Markov-1 matrix is as follow:\n",
    "\n",
    "$$ R_{i,j} = \\rho^{|i-j|} $$ \n",
    "\n",
    "for a given size of the matrix we can compute the co-variance matrix as given:"
   ]
  },
  {
   "cell_type": "code",
   "execution_count": 4,
   "id": "41ec35f5",
   "metadata": {},
   "outputs": [],
   "source": [
    "def markov(n,rho):\n",
    "    x,y=np.meshgrid(np.arange(n),np.arange(n))\n",
    "    return rho**(np.abs(x-y))"
   ]
  },
  {
   "cell_type": "markdown",
   "id": "90685145",
   "metadata": {},
   "source": [
    "We are given $\\rho=0.91$ for a matrix of size 8*8 which would result in"
   ]
  },
  {
   "cell_type": "code",
   "execution_count": 5,
   "id": "16220bd2",
   "metadata": {},
   "outputs": [
    {
     "data": {
      "text/plain": [
       "array([[1.        , 0.91      , 0.8281    , 0.753571  , 0.68574961,\n",
       "        0.62403215, 0.56786925, 0.51676102],\n",
       "       [0.91      , 1.        , 0.91      , 0.8281    , 0.753571  ,\n",
       "        0.68574961, 0.62403215, 0.56786925],\n",
       "       [0.8281    , 0.91      , 1.        , 0.91      , 0.8281    ,\n",
       "        0.753571  , 0.68574961, 0.62403215],\n",
       "       [0.753571  , 0.8281    , 0.91      , 1.        , 0.91      ,\n",
       "        0.8281    , 0.753571  , 0.68574961],\n",
       "       [0.68574961, 0.753571  , 0.8281    , 0.91      , 1.        ,\n",
       "        0.91      , 0.8281    , 0.753571  ],\n",
       "       [0.62403215, 0.68574961, 0.753571  , 0.8281    , 0.91      ,\n",
       "        1.        , 0.91      , 0.8281    ],\n",
       "       [0.56786925, 0.62403215, 0.68574961, 0.753571  , 0.8281    ,\n",
       "        0.91      , 1.        , 0.91      ],\n",
       "       [0.51676102, 0.56786925, 0.62403215, 0.68574961, 0.753571  ,\n",
       "        0.8281    , 0.91      , 1.        ]])"
      ]
     },
     "execution_count": 5,
     "metadata": {},
     "output_type": "execute_result"
    }
   ],
   "source": [
    "markov(8,rho)"
   ]
  },
  {
   "cell_type": "markdown",
   "id": "7fa829ba",
   "metadata": {},
   "source": [
    "## 1.3 Walsh-Haddamard Transform\n",
    "\n",
    "The Haddarmard Matrices are $H_n$ of size N x N where N=$2^n$, where n=1,2,3...\n",
    "\n",
    "Where $H_n$ is computed from the base matrix $H_1$ which is :\n",
    "\n",
    "$$H_1= \\frac{1}{\\sqrt{2}} \\begin{bmatrix} 1 & 1 \\\\ 1 & -1 \\end{bmatrix}$$\n",
    "\n",
    "and every other $H_n$ can be computed by iteratively computing\n",
    "\n",
    "$$ H_n=H_{n-1} \\otimes H_1 $$"
   ]
  },
  {
   "cell_type": "code",
   "execution_count": 6,
   "id": "46f2165b",
   "metadata": {},
   "outputs": [],
   "source": [
    "def wal_had(n):\n",
    "    H_1=np.array(([1,1],[1,-1]))*(1/np.sqrt(2))\n",
    "    # to iterate over kronecker producting setting up the first term for Haddamard Matrix\n",
    "    H=np.array(([1,1],[1,-1]))*(1/np.sqrt(2))\n",
    "    if n==1:\n",
    "        return H_1\n",
    "    for i in range(1,n):\n",
    "        H=np.kron(H,H_1)\n",
    "    return H"
   ]
  },
  {
   "cell_type": "code",
   "execution_count": 7,
   "id": "d5e6ab0c",
   "metadata": {},
   "outputs": [
    {
     "data": {
      "text/plain": [
       "array([[ 0.0625,  0.0625,  0.0625, ...,  0.0625,  0.0625,  0.0625],\n",
       "       [ 0.0625, -0.0625,  0.0625, ..., -0.0625,  0.0625, -0.0625],\n",
       "       [ 0.0625,  0.0625, -0.0625, ...,  0.0625, -0.0625, -0.0625],\n",
       "       ...,\n",
       "       [ 0.0625, -0.0625,  0.0625, ..., -0.0625,  0.0625, -0.0625],\n",
       "       [ 0.0625,  0.0625, -0.0625, ...,  0.0625, -0.0625, -0.0625],\n",
       "       [ 0.0625, -0.0625, -0.0625, ..., -0.0625, -0.0625,  0.0625]])"
      ]
     },
     "execution_count": 7,
     "metadata": {},
     "output_type": "execute_result"
    }
   ],
   "source": [
    "wal_had(8)"
   ]
  },
  {
   "cell_type": "markdown",
   "id": "cab6f7c5",
   "metadata": {},
   "source": [
    "## 1.4 Symmetric Tridiagonal Structure\n",
    "\n",
    "We know that 1-D DCT diagonalize a Symmetric Tridiagonal Structure which we can be represented as:\n",
    "\n",
    "lets say for a matrix of size 4X4 we have:\n",
    "$$  S=\\begin{bmatrix} 1-\\alpha & -\\alpha & 0 &  0 \\\\ -\\alpha & 1 & -\\alpha &  0 \\\\ 0 & -\\alpha & 1 & -\\alpha \\\\ 0 & 0 & -\\alpha & 1-\\alpha \\end{bmatrix}$$\n",
    "\n",
    "The function defined below gives us the same structure for given values for alpha and n"
   ]
  },
  {
   "cell_type": "code",
   "execution_count": 8,
   "id": "cc29c670",
   "metadata": {},
   "outputs": [],
   "source": [
    "def sym_tri(n,alpha):\n",
    "    res=np.zeros((n,n))\n",
    "    x,y=np.meshgrid(range(n),range(n))\n",
    "    # difference between i j is 1 for just 1 cell away off diagonal element\n",
    "    res[np.abs(x-y)==1]=-alpha\n",
    "    res[np.abs(x-y)==0]=1\n",
    "    # i==j are the diagonal element meaning diff is 0 setting them up as 1\n",
    "    res[0,0]=1-alpha\n",
    "    res[-1,-1]=1-alpha\n",
    "    # setting top left and bottom right element manually\n",
    "    return res"
   ]
  },
  {
   "cell_type": "code",
   "execution_count": 9,
   "id": "9f5f54ac",
   "metadata": {},
   "outputs": [
    {
     "data": {
      "text/plain": [
       "array([[ 0.3, -0.7,  0. ,  0. ,  0. ,  0. ,  0. ,  0. ],\n",
       "       [-0.7,  1. , -0.7,  0. ,  0. ,  0. ,  0. ,  0. ],\n",
       "       [ 0. , -0.7,  1. , -0.7,  0. ,  0. ,  0. ,  0. ],\n",
       "       [ 0. ,  0. , -0.7,  1. , -0.7,  0. ,  0. ,  0. ],\n",
       "       [ 0. ,  0. ,  0. , -0.7,  1. , -0.7,  0. ,  0. ],\n",
       "       [ 0. ,  0. ,  0. ,  0. , -0.7,  1. , -0.7,  0. ],\n",
       "       [ 0. ,  0. ,  0. ,  0. ,  0. , -0.7,  1. , -0.7],\n",
       "       [ 0. ,  0. ,  0. ,  0. ,  0. ,  0. , -0.7,  0.3]])"
      ]
     },
     "execution_count": 9,
     "metadata": {},
     "output_type": "execute_result"
    }
   ],
   "source": [
    "sym_tri(8,0.7)"
   ]
  },
  {
   "cell_type": "markdown",
   "id": "1cbe609b",
   "metadata": {},
   "source": [
    "# Q1 Markov-1 process with covariance matrix R of size 8 × 8 and ρ = 0.91. \n",
    "Compute the Energy Packing Efficiency and De-correlation Efficiency of the Walsh-Haddamard Transform\n",
    "and Discrete Cosine Transform for the above process. What is your observation about the\n",
    "eigenvectors of R in relation to the DCT basis?"
   ]
  },
  {
   "cell_type": "code",
   "execution_count": 10,
   "id": "38ff95cf",
   "metadata": {},
   "outputs": [],
   "source": [
    "def DCT_2D(matrix):\n",
    "    x, y = np.shape(matrix)\n",
    "    # To compute 2-D DCT for any given matrix we can apply 1-D DCT first over column and then over row \n",
    "    C,D= DCT_custom(x),DCT_custom(y)\n",
    "    # C holds column DCT and D holds row DCT \n",
    "    return C@matrix@(D.T)\n",
    "\n",
    "# Similarly for every Transform we can basically extend the 1-D transform by computing it over column then over row\n",
    "# this follows also in Walsh-Haddamard Transform\n",
    "def wal_had_2D(matrix):\n",
    "    x, y = np.shape(matrix)\n",
    "    H_x = wal_had(int(np.ceil(np.log2(x))))\n",
    "    H_y = wal_had(int(np.ceil(np.log2(y))))\n",
    "    # H_x holds column Walsh Haddamard Transform and H_y holds row Walsh Haddamard Transform \n",
    "    return H_x@matrix@(H_y.T)\n",
    "\n",
    "def Compute_EPE(matrix):\n",
    "    # To compute Energy Packing Efficency we can sum the diagonal entries and then for each dropped singular value \n",
    "    # compute its cummalative sum over total\n",
    "    total=np.sum(np.diag(matrix))\n",
    "    return np.cumsum(np.diag(matrix))/total\n",
    "\n",
    "\n",
    "def Decorrelation_eff(Matrix, Matrix_transformed):\n",
    "    off_diag = 1-np.eye(np.shape(Matrix)[0])\n",
    "    # Getting off-diagonal elements from Matrix\n",
    "    temp1 = np.abs(off_diag*Matrix)\n",
    "    temp2 = np.abs(off_diag*Matrix_transformed)\n",
    "    # Evaluating for alpha and beta to be used in computing the efficency\n",
    "    # where efficency = 1 - alpha / beta \n",
    "    a=np.sum(temp2)\n",
    "    b=np.sum(temp1)\n",
    "    return (1-(a/b))"
   ]
  },
  {
   "cell_type": "code",
   "execution_count": 11,
   "id": "e45ab895",
   "metadata": {},
   "outputs": [],
   "source": [
    "R=markov(8,rho)\n",
    "\n",
    "DCT=DCT_2D(R)\n",
    "WAL=wal_had_2D(R)\n",
    "epe_dct=Compute_EPE(DCT)\n",
    "epe_wal=Compute_EPE(WAL)\n"
   ]
  },
  {
   "cell_type": "code",
   "execution_count": 12,
   "id": "ee858bd1",
   "metadata": {},
   "outputs": [
    {
     "data": {
      "text/plain": [
       "<matplotlib.legend.Legend at 0x16d7c9da6b0>"
      ]
     },
     "execution_count": 12,
     "metadata": {},
     "output_type": "execute_result"
    },
    {
     "data": {
      "image/png": "[encoded data removed]",
      "text/plain": [
       "<Figure size 432x288 with 1 Axes>"
      ]
     },
     "metadata": {
      "needs_background": "light"
     },
     "output_type": "display_data"
    }
   ],
   "source": [
    "plt.plot(np.arange(DCT.shape[0])+1,epe_dct,'blue')\n",
    "plt.plot(np.arange(WAL.shape[0])+1,epe_wal,'red')\n",
    "plt.grid()\n",
    "plt.legend([\"DCT\", \"WHT\"])"
   ]
  },
  {
   "cell_type": "markdown",
   "id": "400e93a1",
   "metadata": {},
   "source": [
    "* DCT has more energy packing efficency for the first few eigenvectors more than WHT this means DCT eigen vector are closer to eigen vector of the data we are processing.\n",
    "\n",
    "* Graph intially grows really fast after which its growth slows which means the latter half of the eigenvector have relatively less information then first few components.\n",
    "\n",
    "* WHT transform gains a lot of energy efficency near 5th eigenvector which means these eigenvector had a lot of info and including them had a significant improvement."
   ]
  },
  {
   "cell_type": "code",
   "execution_count": 13,
   "id": "8bc22f48",
   "metadata": {},
   "outputs": [
    {
     "data": {
      "text/plain": [
       "0.9804711989227338"
      ]
     },
     "execution_count": 13,
     "metadata": {},
     "output_type": "execute_result"
    }
   ],
   "source": [
    "Decorrelation_eff(R,DCT)"
   ]
  },
  {
   "cell_type": "code",
   "execution_count": 14,
   "id": "e9924b64",
   "metadata": {},
   "outputs": [
    {
     "data": {
      "text/plain": [
       "0.9485667904674058"
      ]
     },
     "execution_count": 14,
     "metadata": {},
     "output_type": "execute_result"
    }
   ],
   "source": [
    "Decorrelation_eff(R,WAL)"
   ]
  },
  {
   "cell_type": "markdown",
   "id": "fe2c0093",
   "metadata": {},
   "source": [
    "## To see eigenvector of R \n",
    "\n",
    "we can print the DCT transform of the matrix R which we can compare with DCT basis."
   ]
  },
  {
   "cell_type": "code",
   "execution_count": 15,
   "id": "7329cb4c",
   "metadata": {},
   "outputs": [
    {
     "data": {
      "text/plain": [
       "array([[ 6.34,  0.  , -0.29,  0.  , -0.07, -0.  , -0.02,  0.  ],\n",
       "       [ 0.  ,  0.93,  0.  , -0.03,  0.  , -0.01,  0.  , -0.  ],\n",
       "       [-0.29,  0.  ,  0.31,  0.  , -0.  ,  0.  , -0.  , -0.  ],\n",
       "       [ 0.  , -0.03,  0.  ,  0.15,  0.  , -0.  ,  0.  , -0.  ],\n",
       "       [-0.07, -0.  , -0.  ,  0.  ,  0.09,  0.  , -0.  , -0.  ],\n",
       "       [-0.  , -0.01,  0.  , -0.  ,  0.  ,  0.07,  0.  , -0.  ],\n",
       "       [-0.02,  0.  , -0.  ,  0.  , -0.  ,  0.  ,  0.06, -0.  ],\n",
       "       [ 0.  , -0.  , -0.  , -0.  , -0.  , -0.  , -0.  ,  0.05]])"
      ]
     },
     "execution_count": 15,
     "metadata": {},
     "output_type": "execute_result"
    }
   ],
   "source": [
    "np.round(DCT, decimals=2)"
   ]
  },
  {
   "cell_type": "markdown",
   "id": "bc432ed6",
   "metadata": {},
   "source": [
    "* If the eigen vectors of R would be same as DCT basis we should have seen a purely diagonal matrix but what we see is that some values off diagonal exist this means eigen vector are close to DCT but not same.\n",
    "\n",
    "* diagonal values in the matrix decreases from top right to bottom left this shows that first few eigen vector contains most information which is also visible in the above graph which shows the energy packing efficency of the vectors."
   ]
  },
  {
   "cell_type": "markdown",
   "id": "347b6eaa",
   "metadata": {},
   "source": [
    "## Q2  \n",
    "\n",
    "### Find $\\beta^2 R^{-1}$ given $\\beta^2 = \\frac{1-\\rho^2}{1+\\rho^2}$"
   ]
  },
  {
   "cell_type": "code",
   "execution_count": 16,
   "id": "1896cb03",
   "metadata": {},
   "outputs": [],
   "source": [
    "beta = np.sqrt((1-rho**2)/(1+rho**2))"
   ]
  },
  {
   "cell_type": "code",
   "execution_count": 17,
   "id": "3af490ac",
   "metadata": {},
   "outputs": [
    {
     "data": {
      "text/plain": [
       "0.3066464660471657"
      ]
     },
     "execution_count": 17,
     "metadata": {},
     "output_type": "execute_result"
    }
   ],
   "source": [
    "beta"
   ]
  },
  {
   "cell_type": "markdown",
   "id": "328c1fe3",
   "metadata": {},
   "source": [
    "### $\\alpha = \\frac{\\rho}{1+\\rho}$"
   ]
  },
  {
   "cell_type": "code",
   "execution_count": 18,
   "id": "bb27cdae",
   "metadata": {},
   "outputs": [],
   "source": [
    "alpha = rho/(1+rho**2)"
   ]
  },
  {
   "cell_type": "code",
   "execution_count": 19,
   "id": "b85c3256",
   "metadata": {},
   "outputs": [
    {
     "data": {
      "text/plain": [
       "0.4977845850883431"
      ]
     },
     "execution_count": 19,
     "metadata": {},
     "output_type": "execute_result"
    }
   ],
   "source": [
    "alpha"
   ]
  },
  {
   "cell_type": "code",
   "execution_count": 20,
   "id": "e7b6a6dc",
   "metadata": {},
   "outputs": [],
   "source": [
    "Q=sym_tri(8,alpha)"
   ]
  },
  {
   "cell_type": "code",
   "execution_count": 21,
   "id": "d4d4927e",
   "metadata": {},
   "outputs": [
    {
     "data": {
      "text/plain": [
       "array([[ 0.5, -0.5,  0. ,  0. ,  0. ,  0. ,  0. ,  0. ],\n",
       "       [-0.5,  1. , -0.5,  0. ,  0. ,  0. ,  0. ,  0. ],\n",
       "       [ 0. , -0.5,  1. , -0.5,  0. ,  0. ,  0. ,  0. ],\n",
       "       [ 0. ,  0. , -0.5,  1. , -0.5,  0. ,  0. ,  0. ],\n",
       "       [ 0. ,  0. ,  0. , -0.5,  1. , -0.5,  0. ,  0. ],\n",
       "       [ 0. ,  0. ,  0. ,  0. , -0.5,  1. , -0.5,  0. ],\n",
       "       [ 0. ,  0. ,  0. ,  0. ,  0. , -0.5,  1. , -0.5],\n",
       "       [ 0. ,  0. ,  0. ,  0. ,  0. ,  0. , -0.5,  0.5]])"
      ]
     },
     "execution_count": 21,
     "metadata": {},
     "output_type": "execute_result"
    }
   ],
   "source": [
    "np.round(Q, decimals=2)"
   ]
  },
  {
   "cell_type": "markdown",
   "id": "c4bcadae",
   "metadata": {},
   "source": [
    "### Does $\\beta^2 R^{-1}$ have a Tridiagonal Structure?"
   ]
  },
  {
   "cell_type": "code",
   "execution_count": 22,
   "id": "9e376c1c",
   "metadata": {},
   "outputs": [],
   "source": [
    "beta_res=(beta**2)*(np.linalg.inv(R))"
   ]
  },
  {
   "cell_type": "code",
   "execution_count": 23,
   "id": "9c30d4ac",
   "metadata": {},
   "outputs": [
    {
     "data": {
      "text/plain": [
       "array([[ 0.55, -0.5 , -0.  ,  0.  , -0.  , -0.  ,  0.  , -0.  ],\n",
       "       [-0.5 ,  1.  , -0.5 ,  0.  , -0.  ,  0.  , -0.  ,  0.  ],\n",
       "       [-0.  , -0.5 ,  1.  , -0.5 ,  0.  , -0.  ,  0.  , -0.  ],\n",
       "       [-0.  , -0.  , -0.5 ,  1.  , -0.5 ,  0.  , -0.  ,  0.  ],\n",
       "       [-0.  , -0.  ,  0.  , -0.5 ,  1.  , -0.5 ,  0.  , -0.  ],\n",
       "       [-0.  ,  0.  , -0.  ,  0.  , -0.5 ,  1.  , -0.5 ,  0.  ],\n",
       "       [ 0.  , -0.  ,  0.  ,  0.  , -0.  , -0.5 ,  1.  , -0.5 ],\n",
       "       [-0.  ,  0.  ,  0.  , -0.  ,  0.  , -0.  , -0.5 ,  0.55]])"
      ]
     },
     "execution_count": 23,
     "metadata": {},
     "output_type": "execute_result"
    }
   ],
   "source": [
    "np.round(beta_res, decimals=2)"
   ]
  },
  {
   "cell_type": "markdown",
   "id": "e169edd0",
   "metadata": {},
   "source": [
    "* We can verify that the above matrix does have a tridiagonal Structure which is similar to Q computed above"
   ]
  },
  {
   "cell_type": "code",
   "execution_count": 24,
   "id": "38293d4f",
   "metadata": {},
   "outputs": [],
   "source": [
    "DCT_1=DCT_2D(Q)\n",
    "DCT_2=DCT_2D(beta_res)"
   ]
  },
  {
   "cell_type": "code",
   "execution_count": 25,
   "id": "49c68174",
   "metadata": {},
   "outputs": [
    {
     "data": {
      "text/plain": [
       "array([[ 0.  ,  0.  , -0.  ,  0.  ,  0.  , -0.  , -0.  ,  0.  ],\n",
       "       [-0.  ,  0.08, -0.  ,  0.  , -0.  , -0.  ,  0.  , -0.  ],\n",
       "       [-0.  , -0.  ,  0.3 ,  0.  , -0.  ,  0.  , -0.  ,  0.  ],\n",
       "       [-0.  ,  0.  ,  0.  ,  0.62,  0.  , -0.  ,  0.  , -0.  ],\n",
       "       [ 0.  , -0.  , -0.  ,  0.  ,  1.  ,  0.  , -0.  , -0.  ],\n",
       "       [-0.  , -0.  ,  0.  , -0.  ,  0.  ,  1.38,  0.  ,  0.  ],\n",
       "       [-0.  ,  0.  , -0.  ,  0.  , -0.  ,  0.  ,  1.7 , -0.  ],\n",
       "       [-0.  , -0.  ,  0.  , -0.  , -0.  ,  0.  , -0.  ,  1.92]])"
      ]
     },
     "execution_count": 25,
     "metadata": {},
     "output_type": "execute_result"
    }
   ],
   "source": [
    "np.round(DCT_1, decimals=2)"
   ]
  },
  {
   "cell_type": "code",
   "execution_count": 26,
   "id": "ce5f217b",
   "metadata": {},
   "outputs": [
    {
     "data": {
      "text/plain": [
       "array([[ 0.02, -0.  ,  0.01,  0.  ,  0.01,  0.  ,  0.01,  0.  ],\n",
       "       [-0.  ,  0.1 , -0.  ,  0.02,  0.  ,  0.01,  0.  ,  0.  ],\n",
       "       [ 0.01,  0.  ,  0.32,  0.  ,  0.01,  0.  ,  0.01,  0.  ],\n",
       "       [-0.  ,  0.02, -0.  ,  0.63,  0.  ,  0.01,  0.  ,  0.  ],\n",
       "       [ 0.01,  0.  ,  0.01,  0.  ,  1.01,  0.  ,  0.01,  0.  ],\n",
       "       [ 0.  ,  0.01, -0.  ,  0.01,  0.  ,  1.39,  0.  ,  0.  ],\n",
       "       [ 0.01,  0.  ,  0.01,  0.  ,  0.01, -0.  ,  1.71,  0.  ],\n",
       "       [-0.  ,  0.  ,  0.  ,  0.  , -0.  ,  0.  , -0.  ,  1.92]])"
      ]
     },
     "execution_count": 26,
     "metadata": {},
     "output_type": "execute_result"
    }
   ],
   "source": [
    "np.round(DCT_2, decimals=2)"
   ]
  },
  {
   "cell_type": "markdown",
   "id": "979cfc05",
   "metadata": {},
   "source": [
    "* Through the diagonal values we can see that both have similar eigen values which means they are close to each other and share a similar structure"
   ]
  },
  {
   "cell_type": "code",
   "execution_count": 27,
   "id": "32f14dd1",
   "metadata": {},
   "outputs": [
    {
     "data": {
      "text/plain": [
       "array([[ 0.01, -0.  ,  0.01,  0.  ,  0.01,  0.  ,  0.01,  0.  ],\n",
       "       [-0.  ,  0.02, -0.  ,  0.02,  0.  ,  0.01,  0.  ,  0.  ],\n",
       "       [ 0.01,  0.  ,  0.02, -0.  ,  0.01,  0.  ,  0.01, -0.  ],\n",
       "       [ 0.  ,  0.02, -0.  ,  0.02, -0.  ,  0.01,  0.  ,  0.  ],\n",
       "       [ 0.01,  0.  ,  0.01, -0.  ,  0.01,  0.  ,  0.01,  0.  ],\n",
       "       [ 0.  ,  0.01, -0.  ,  0.01, -0.  ,  0.01,  0.  ,  0.  ],\n",
       "       [ 0.01,  0.  ,  0.01, -0.  ,  0.01, -0.  ,  0.  ,  0.  ],\n",
       "       [-0.  ,  0.  , -0.  ,  0.  , -0.  ,  0.  , -0.  ,  0.  ]])"
      ]
     },
     "execution_count": 27,
     "metadata": {},
     "output_type": "execute_result"
    }
   ],
   "source": [
    "np.round(DCT_2-DCT_1, decimals=2)"
   ]
  },
  {
   "cell_type": "markdown",
   "id": "bbdd6e97",
   "metadata": {},
   "source": [
    "* This can further be verified by subtracting the 2 matrices"
   ]
  },
  {
   "cell_type": "markdown",
   "id": "4920267c",
   "metadata": {},
   "source": [
    "## Q3. Performing SVD and reconstructing the matrix based on obtained eigenvectors and their values.\n",
    "\n",
    "To  Compute SVD for a given matrix A we first find the \n",
    "\n",
    "* $A^TA$ and $AA^T$ and compute their eigen-value decomposition. This gives us their respective eigen values and eigen vectors.\n",
    "\n",
    "\n",
    "* we know $ A = U\\Sigma V$ where eigen vector of $AA^T$ are column of $U$ and eigen vector of $A^TA$ are column of $V$\n",
    "\n",
    "\n",
    "* eigen values of $AA^T$ and  $A^TA$ are the diagonal values $\\Sigma$\n",
    "\n",
    "This gives us the $U$ $V$ and $\\Sigma$ which we can use to recompute A \n",
    "\n",
    "* To Compute $A$ from $U$ $V$ and $\\Sigma$ we can just compute $ U\\Sigma V$ \n",
    "\n",
    "* We can compute  $\\hat{A}_{k}$ which is $A$ computed from $U$ $V$ and $\\Sigma$ but only using most significant eigen values and where k is number of eigenvector used for reconstruction.\n",
    "\n"
   ]
  },
  {
   "cell_type": "code",
   "execution_count": 28,
   "id": "a3ee4d09",
   "metadata": {},
   "outputs": [],
   "source": [
    "g=mat['g'].astype(np.float64)"
   ]
  },
  {
   "cell_type": "code",
   "execution_count": 41,
   "id": "e091d4da",
   "metadata": {},
   "outputs": [],
   "source": [
    "def SVD(matrix):\n",
    "    g=matrix.astype(np.float64)\n",
    "    temp1=np.matmul(g,g.T)\n",
    "    temp2=np.matmul(g.T,g)\n",
    "    sigmas=np.zeros_like(g)\n",
    "    e_val_1,e_vec_1=sorted_eigen((temp1))\n",
    "    e_val_2,e_vec_2=sorted_eigen((temp2))\n",
    "    e_val_1=np.sqrt(e_val_1)\n",
    "    e_val_2=np.sqrt(e_val_2)\n",
    "    for i in range(min(g.shape[0],g.shape[1])):\n",
    "        sigmas[i][i]=(e_val_1[i]+e_val_2[i])/2\n",
    "        v=e_vec_2[:,i]\n",
    "        if np.sum((g@v-sigmas[i, i]*e_vec_1[:, i])**2) > np.sum((g@v+sigmas[i, i]*e_vec_1[:, i])**2):\n",
    "            e_vec_2[:, i] = -v\n",
    "    return e_vec_1,sigmas,e_vec_2\n",
    "\n",
    "def sorted_eigen(Matrix):\n",
    "    eigenValues, eigenVectors = np.linalg.eig(Matrix)\n",
    "    temp = eigenValues.argsort()[::-1]\n",
    "    eigenValues = eigenValues[temp]\n",
    "    eigenVectors = eigenVectors[:, temp]\n",
    "    return eigenValues, eigenVectors\n",
    "\n",
    "def reconstruc_from_svd(U,sigma,V,n):\n",
    "    return np.matmul(np.matmul(U[:,:n],sigma[:n,:n]),V.T[:n,:])\n",
    "\n",
    "def exp_error(sigma):\n",
    "    total=np.sum(np.diag(sigma[sigma>0]**2))\n",
    "    return np.cumsum(sigma[sigma>0]**2)/total    \n",
    "\n",
    "def error_from_svd(original,U,sigma,V):\n",
    "    total=np.sum(np.diag(sigma[sigma>0]**2))\n",
    "    original=original.astype(np.float64)\n",
    "    x,y=original.shape\n",
    "    error=[]\n",
    "    twin=original.copy()\n",
    "    for i in range(min(x,y)):\n",
    "        twin-=sigma[i,i]*np.outer(U[:,i],V[:,i])\n",
    "        error.append(np.sum((twin-original)**2)/total)\n",
    "    return error\n"
   ]
  },
  {
   "cell_type": "code",
   "execution_count": 42,
   "id": "6b6bb9a7",
   "metadata": {},
   "outputs": [],
   "source": [
    "U,sigma,V=SVD(g)"
   ]
  },
  {
   "cell_type": "code",
   "execution_count": 43,
   "id": "197ca34a",
   "metadata": {},
   "outputs": [
    {
     "data": {
      "text/plain": [
       "(8, 8)"
      ]
     },
     "execution_count": 43,
     "metadata": {},
     "output_type": "execute_result"
    }
   ],
   "source": [
    "g.shape"
   ]
  },
  {
   "cell_type": "code",
   "execution_count": 44,
   "id": "61fca53a",
   "metadata": {},
   "outputs": [
    {
     "data": {
      "text/plain": [
       "array([[207., 244., 107., 173.,  70., 111., 180., 244.],\n",
       "       [230., 246., 233., 193.,  11.,  97., 192.,  86.],\n",
       "       [ 32.,  40., 202., 189.,  24., 195.,  70., 149.],\n",
       "       [232., 247., 244., 100., 209., 202., 173.,  57.],\n",
       "       [161., 244., 167., 167., 177.,  47., 167., 191.],\n",
       "       [ 24., 123.,   9.,  43.,  80., 124.,  41.,  65.],\n",
       "       [ 71., 204., 216., 180., 242., 113.,  30., 129.],\n",
       "       [139.,  36., 238.,   8.,   8., 164., 127., 178.]])"
      ]
     },
     "execution_count": 44,
     "metadata": {},
     "output_type": "execute_result"
    }
   ],
   "source": [
    "g"
   ]
  },
  {
   "cell_type": "code",
   "execution_count": 45,
   "id": "186e642f",
   "metadata": {},
   "outputs": [
    {
     "data": {
      "text/plain": [
       "array([[207., 244., 107., 173.,  70., 111., 180., 244.],\n",
       "       [230., 246., 233., 193.,  11.,  97., 192.,  86.],\n",
       "       [ 32.,  40., 202., 189.,  24., 195.,  70., 149.],\n",
       "       [232., 247., 244., 100., 209., 202., 173.,  57.],\n",
       "       [161., 244., 167., 167., 177.,  47., 167., 191.],\n",
       "       [ 24., 123.,   9.,  43.,  80., 124.,  41.,  65.],\n",
       "       [ 71., 204., 216., 180., 242., 113.,  30., 129.],\n",
       "       [139.,  36., 238.,   8.,   8., 164., 127., 178.]])"
      ]
     },
     "execution_count": 45,
     "metadata": {},
     "output_type": "execute_result"
    }
   ],
   "source": [
    "reconstruc_from_svd(U,sigma,V,8)"
   ]
  },
  {
   "cell_type": "code",
   "execution_count": 46,
   "id": "2d4368d0",
   "metadata": {},
   "outputs": [
    {
     "data": {
      "text/plain": [
       "1.0800249583553523e-12"
      ]
     },
     "execution_count": 46,
     "metadata": {},
     "output_type": "execute_result"
    }
   ],
   "source": [
    "np.max(g-reconstruc_from_svd(U,sigma,V,8))"
   ]
  },
  {
   "cell_type": "code",
   "execution_count": 47,
   "id": "e6e0bea2",
   "metadata": {},
   "outputs": [
    {
     "data": {
      "text/plain": [
       "array([[194.57258802, 249.96369227, 110.44520647, 168.82208015,\n",
       "         67.99654152, 109.83024324, 188.90970236, 243.31660829],\n",
       "       [234.95953048, 243.62001021, 231.62508731, 194.66732389,\n",
       "         11.79954004,  97.46682642, 188.44431676,  86.2727279 ],\n",
       "       [ 31.70798905,  40.14013082, 202.08095314, 188.90183006,\n",
       "         23.95292408, 194.97251384,  70.20935418, 148.98394212],\n",
       "       [226.292413  , 249.7389687 , 245.5822937 ,  98.08119011,\n",
       "        208.07986364, 201.46276115, 177.09199449,  56.68613597],\n",
       "       [172.41561484, 238.52185104, 163.83529039, 170.83776799,\n",
       "        178.84034379,  48.07451919, 158.81569495, 191.6277523 ],\n",
       "       [ 36.33032805, 117.08289657,   5.58170776,  47.14528161,\n",
       "         81.98780731, 125.16061853,  32.15990094,  65.678053  ],\n",
       "       [ 66.45034313, 206.18329878, 217.26128491, 178.47046982,\n",
       "        241.26653686, 112.57175381,  33.26182866, 128.74981132],\n",
       "       [142.09454949,  34.51498117, 237.14210924,   9.0403437 ,\n",
       "          8.49888114, 164.2912811 , 124.78139528, 178.17017135]])"
      ]
     },
     "execution_count": 47,
     "metadata": {},
     "output_type": "execute_result"
    }
   ],
   "source": [
    "reconstruc_from_svd(U,sigma,V,7)"
   ]
  },
  {
   "cell_type": "code",
   "execution_count": 48,
   "id": "37224934",
   "metadata": {},
   "outputs": [
    {
     "data": {
      "text/plain": [
       "array([[194.56502088, 248.25836277, 109.76891294, 169.72853635,\n",
       "         69.10286021, 109.79715596, 190.93546621, 242.84557673],\n",
       "       [234.92340863, 235.47959409, 228.39678996, 198.99430626,\n",
       "         17.08056905,  97.30888379, 198.11433112,  84.0242516 ],\n",
       "       [ 31.75303893,  50.29256541, 206.10716963, 183.50537306,\n",
       "         17.36661438, 195.16949423,  58.1492596 , 151.78816101],\n",
       "       [226.33189147, 258.63583176, 249.11058008,  93.35212356,\n",
       "        202.30809581, 201.63538059, 166.52339551,  59.14355159],\n",
       "       [172.46512853, 249.68024838, 168.26044801, 164.9065984 ,\n",
       "        171.60142391,  48.29101754, 145.5606155 , 194.70982964],\n",
       "       [ 36.299086  , 110.04219161,   2.78952997,  50.88772005,\n",
       "         86.55540761, 125.02401279,  40.5235665 ,  63.73332953],\n",
       "       [ 66.39801302, 194.39019055, 212.5844159 , 184.73901563,\n",
       "        248.91722029, 112.34294062,  47.27088228, 125.49241956],\n",
       "       [142.06401221,  27.63310427, 234.41291892,  12.69835817,\n",
       "         12.96344303, 164.15775699, 132.95638872, 176.26931801]])"
      ]
     },
     "execution_count": 48,
     "metadata": {},
     "output_type": "execute_result"
    }
   ],
   "source": [
    "reconstruc_from_svd(U,sigma,V,6)"
   ]
  },
  {
   "cell_type": "markdown",
   "id": "e9409752",
   "metadata": {},
   "source": [
    "## Q4. Computing Error by removing singular values one by one.\n",
    "\n",
    "### we know error between the original image (g) and the reconstructed image ( $\\hat{A}_{k}$ ) is equal to $ ||A-\\hat{A}_{k}||_{F}^{2}$ where k is number of singular values we are using\n",
    "\n",
    "Here we are going to be computing error based on 2 methods:\n",
    "\n",
    "* Computing error based on difference between the reconstructed image and original image\n",
    "\n",
    "$$ ||A-\\hat{A}_{k}||_{F}^{2} $$\n",
    "\n",
    "\n",
    "* Computing error based on Sigma (Singular values) which are the eigen values for the data obtained by SVD\n",
    "\n",
    "$$ ||A-\\hat{A}_{k}||_{F}^{2} = \\Sigma_{i=1}^{k}\\sigma_{i}^{2} $$\n",
    "\n",
    "\n"
   ]
  },
  {
   "cell_type": "code",
   "execution_count": 49,
   "id": "15e6597d",
   "metadata": {},
   "outputs": [],
   "source": [
    "exp=exp_error(sigma)"
   ]
  },
  {
   "cell_type": "code",
   "execution_count": 50,
   "id": "d70e8dc8",
   "metadata": {},
   "outputs": [],
   "source": [
    "true_error=error_from_svd(g,U,sigma,V)"
   ]
  },
  {
   "cell_type": "code",
   "execution_count": 51,
   "id": "a66a38d1",
   "metadata": {},
   "outputs": [
    {
     "data": {
      "text/plain": [
       "<matplotlib.legend.Legend at 0x16d7fbac880>"
      ]
     },
     "execution_count": 51,
     "metadata": {},
     "output_type": "execute_result"
    },
    {
     "data": {
      "image/png": "[encoded data removed]",
      "text/plain": [
       "<Figure size 432x288 with 1 Axes>"
      ]
     },
     "metadata": {
      "needs_background": "light"
     },
     "output_type": "display_data"
    }
   ],
   "source": [
    "plt.plot(np.arange(DCT.shape[0])+1,exp,'blue')\n",
    "plt.plot(np.arange(WAL.shape[0])+1,true_error,'red')\n",
    "plt.grid()\n",
    "plt.legend([\"Expected Error\", \"True Error\"])"
   ]
  },
  {
   "cell_type": "markdown",
   "id": "862948f0",
   "metadata": {},
   "source": [
    "### The graph is moving left to right in order of dropped singular values so 8 basically signify have dropped all the singular values that we have 100% error"
   ]
  },
  {
   "cell_type": "markdown",
   "id": "7a7bd47f",
   "metadata": {},
   "source": [
    "* Both the error lines overlap through the graph which means theoritical error and True error are identical we can further verify this by plotting their difference\n",
    "\n",
    "* This graph also shows how the first few eigen vectors have the most significant data as the error metric grows rapidly for the significant eigen values dropped."
   ]
  },
  {
   "cell_type": "code",
   "execution_count": 40,
   "id": "9132a4ce",
   "metadata": {},
   "outputs": [
    {
     "data": {
      "image/png": "[encoded data removed]",
      "text/plain": [
       "<Figure size 432x288 with 1 Axes>"
      ]
     },
     "metadata": {
      "needs_background": "light"
     },
     "output_type": "display_data"
    }
   ],
   "source": [
    "plt.plot(np.arange(DCT.shape[0])+1,exp-true_error,'blue')\n",
    "plt.grid()"
   ]
  },
  {
   "cell_type": "markdown",
   "id": "d2d980da",
   "metadata": {},
   "source": [
    "* This shows that difference between True error and Expected error is in terms of $10^{-10}$ which is really good agreement between the 2 results"
   ]
  },
  {
   "cell_type": "code",
   "execution_count": null,
   "id": "17857066",
   "metadata": {},
   "outputs": [],
   "source": []
  }
 ],
 "metadata": {
  "kernelspec": {
   "display_name": "Python 3 (ipykernel)",
   "language": "python",
   "name": "python3"
  },
  "language_info": {
   "codemirror_mode": {
    "name": "ipython",
    "version": 3
   },
   "file_extension": ".py",
   "mimetype": "text/x-python",
   "name": "python",
   "nbconvert_exporter": "python",
   "pygments_lexer": "ipython3",
   "version": "3.8.10"
  }
 },
 "nbformat": 4,
 "nbformat_minor": 5
}
